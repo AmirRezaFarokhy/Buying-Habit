{
 "cells": [
  {
   "cell_type": "code",
   "execution_count": 1,
   "id": "5f5bff5e",
   "metadata": {},
   "outputs": [
    {
     "data": {
      "text/html": [
       "<div>\n",
       "<style scoped>\n",
       "    .dataframe tbody tr th:only-of-type {\n",
       "        vertical-align: middle;\n",
       "    }\n",
       "\n",
       "    .dataframe tbody tr th {\n",
       "        vertical-align: top;\n",
       "    }\n",
       "\n",
       "    .dataframe thead th {\n",
       "        text-align: right;\n",
       "    }\n",
       "</style>\n",
       "<table border=\"1\" class=\"dataframe\">\n",
       "  <thead>\n",
       "    <tr style=\"text-align: right;\">\n",
       "      <th></th>\n",
       "      <th>user_id</th>\n",
       "      <th>product_id</th>\n",
       "      <th>created_at</th>\n",
       "    </tr>\n",
       "  </thead>\n",
       "  <tbody>\n",
       "    <tr>\n",
       "      <th>0</th>\n",
       "      <td>647746</td>\n",
       "      <td>2011564</td>\n",
       "      <td>2019-02-09</td>\n",
       "    </tr>\n",
       "    <tr>\n",
       "      <th>1</th>\n",
       "      <td>906136</td>\n",
       "      <td>4105782</td>\n",
       "      <td>2019-11-23</td>\n",
       "    </tr>\n",
       "    <tr>\n",
       "      <th>2</th>\n",
       "      <td>12862997</td>\n",
       "      <td>2144063</td>\n",
       "      <td>2019-07-16</td>\n",
       "    </tr>\n",
       "    <tr>\n",
       "      <th>3</th>\n",
       "      <td>12097079</td>\n",
       "      <td>1207738</td>\n",
       "      <td>2019-04-05</td>\n",
       "    </tr>\n",
       "    <tr>\n",
       "      <th>4</th>\n",
       "      <td>3184486</td>\n",
       "      <td>4278839</td>\n",
       "      <td>2019-03-08</td>\n",
       "    </tr>\n",
       "  </tbody>\n",
       "</table>\n",
       "</div>"
      ],
      "text/plain": [
       "    user_id  product_id  created_at\n",
       "0    647746     2011564  2019-02-09\n",
       "1    906136     4105782  2019-11-23\n",
       "2  12862997     2144063  2019-07-16\n",
       "3  12097079     1207738  2019-04-05\n",
       "4   3184486     4278839  2019-03-08"
      ]
     },
     "execution_count": 1,
     "metadata": {},
     "output_type": "execute_result"
    }
   ],
   "source": [
    "import pandas as pd\n",
    "import numpy as np\n",
    "\n",
    "import matplotlib.pyplot as plt\n",
    "\n",
    "df = pd.read_csv(\"purchase_history.csv\")\n",
    "df.head()"
   ]
  },
  {
   "cell_type": "code",
   "execution_count": 2,
   "id": "26fc8d6e",
   "metadata": {},
   "outputs": [
    {
     "data": {
      "text/plain": [
       "2174447"
      ]
     },
     "execution_count": 2,
     "metadata": {},
     "output_type": "execute_result"
    }
   ],
   "source": [
    "len(df)"
   ]
  },
  {
   "cell_type": "code",
   "execution_count": 3,
   "id": "1f528112",
   "metadata": {},
   "outputs": [
    {
     "data": {
      "text/html": [
       "<div>\n",
       "<style scoped>\n",
       "    .dataframe tbody tr th:only-of-type {\n",
       "        vertical-align: middle;\n",
       "    }\n",
       "\n",
       "    .dataframe tbody tr th {\n",
       "        vertical-align: top;\n",
       "    }\n",
       "\n",
       "    .dataframe thead th {\n",
       "        text-align: right;\n",
       "    }\n",
       "</style>\n",
       "<table border=\"1\" class=\"dataframe\">\n",
       "  <thead>\n",
       "    <tr style=\"text-align: right;\">\n",
       "      <th></th>\n",
       "      <th>user_id</th>\n",
       "      <th>product_id</th>\n",
       "      <th>created_at</th>\n",
       "    </tr>\n",
       "  </thead>\n",
       "  <tbody>\n",
       "    <tr>\n",
       "      <th>2</th>\n",
       "      <td>12862997</td>\n",
       "      <td>2144063</td>\n",
       "      <td>2019-07-16</td>\n",
       "    </tr>\n",
       "    <tr>\n",
       "      <th>969122</th>\n",
       "      <td>12862997</td>\n",
       "      <td>2144063</td>\n",
       "      <td>2019-11-02</td>\n",
       "    </tr>\n",
       "    <tr>\n",
       "      <th>1631287</th>\n",
       "      <td>12862997</td>\n",
       "      <td>2144063</td>\n",
       "      <td>2019-05-21</td>\n",
       "    </tr>\n",
       "    <tr>\n",
       "      <th>1890577</th>\n",
       "      <td>12862997</td>\n",
       "      <td>2144063</td>\n",
       "      <td>2019-11-05</td>\n",
       "    </tr>\n",
       "    <tr>\n",
       "      <th>1978805</th>\n",
       "      <td>12862997</td>\n",
       "      <td>2144063</td>\n",
       "      <td>2019-09-07</td>\n",
       "    </tr>\n",
       "  </tbody>\n",
       "</table>\n",
       "</div>"
      ],
      "text/plain": [
       "          user_id  product_id  created_at\n",
       "2        12862997     2144063  2019-07-16\n",
       "969122   12862997     2144063  2019-11-02\n",
       "1631287  12862997     2144063  2019-05-21\n",
       "1890577  12862997     2144063  2019-11-05\n",
       "1978805  12862997     2144063  2019-09-07"
      ]
     },
     "execution_count": 3,
     "metadata": {},
     "output_type": "execute_result"
    }
   ],
   "source": [
    "# show example of data with user_id\n",
    "df[df['user_id']==12862997]"
   ]
  },
  {
   "cell_type": "code",
   "execution_count": 4,
   "id": "dcb2b344",
   "metadata": {},
   "outputs": [],
   "source": [
    "def TokenizingDateTimes():\n",
    "    date_to_token = {}\n",
    "    token_to_date = {}\n",
    "    tknz = 1\n",
    "    for year in range(2019, 2021): # years create\n",
    "        for month in range(1, 13): # month create\n",
    "            for day in range(1, 32): # days create\n",
    "                if day<10 and month<10:\n",
    "                    date_to_token[f\"{year}-0{month}-0{day}\"] = tknz\n",
    "                    token_to_date[tknz] = f\"{year}-0{month}-0{day}\"\n",
    "                    tknz += 1\n",
    "                elif day<10 and month>=10:\n",
    "                    date_to_token[f\"{year}-{month}-0{day}\"] = tknz\n",
    "                    token_to_date[tknz] = f\"{year}-{month}-0{day}\"\n",
    "                    tknz += 1\n",
    "                elif day>=10 and month<10:\n",
    "                    date_to_token[f\"{year}-0{month}-{day}\"] = tknz\n",
    "                    token_to_date[tknz] = f\"{year}-0{month}-{day}\"\n",
    "                    tknz += 1\n",
    "                else:\n",
    "                    date_to_token[f\"{year}-{month}-{day}\"] = tknz\n",
    "                    token_to_date[tknz] = f\"{year}-{month}-{day}\"\n",
    "                    tknz += 1\n",
    "                    \n",
    "    return date_to_token, token_to_date        \n",
    "            \n",
    "        \n",
    "tokens_value, tokens_key = TokenizingDateTimes()   "
   ]
  },
  {
   "cell_type": "code",
   "execution_count": 4,
   "id": "a4d5a792",
   "metadata": {},
   "outputs": [
    {
     "data": {
      "text/plain": [
       "(20, '2019-01-20')"
      ]
     },
     "execution_count": 4,
     "metadata": {},
     "output_type": "execute_result"
    }
   ],
   "source": [
    "#show example\n",
    "tokens_value['2019-01-20'], tokens_key[20]"
   ]
  },
  {
   "cell_type": "code",
   "execution_count": 5,
   "id": "08d42934",
   "metadata": {},
   "outputs": [
    {
     "data": {
      "text/html": [
       "<div>\n",
       "<style scoped>\n",
       "    .dataframe tbody tr th:only-of-type {\n",
       "        vertical-align: middle;\n",
       "    }\n",
       "\n",
       "    .dataframe tbody tr th {\n",
       "        vertical-align: top;\n",
       "    }\n",
       "\n",
       "    .dataframe thead th {\n",
       "        text-align: right;\n",
       "    }\n",
       "</style>\n",
       "<table border=\"1\" class=\"dataframe\">\n",
       "  <thead>\n",
       "    <tr style=\"text-align: right;\">\n",
       "      <th></th>\n",
       "      <th>user_id</th>\n",
       "      <th>product_id</th>\n",
       "      <th>created_at</th>\n",
       "    </tr>\n",
       "  </thead>\n",
       "  <tbody>\n",
       "    <tr>\n",
       "      <th>860746</th>\n",
       "      <td>8672008</td>\n",
       "      <td>3890806</td>\n",
       "      <td>2</td>\n",
       "    </tr>\n",
       "    <tr>\n",
       "      <th>1516796</th>\n",
       "      <td>750857</td>\n",
       "      <td>2198311</td>\n",
       "      <td>2</td>\n",
       "    </tr>\n",
       "    <tr>\n",
       "      <th>782386</th>\n",
       "      <td>6601315</td>\n",
       "      <td>987662</td>\n",
       "      <td>2</td>\n",
       "    </tr>\n",
       "    <tr>\n",
       "      <th>2018022</th>\n",
       "      <td>1060650</td>\n",
       "      <td>3356497</td>\n",
       "      <td>2</td>\n",
       "    </tr>\n",
       "    <tr>\n",
       "      <th>318411</th>\n",
       "      <td>1220553</td>\n",
       "      <td>898824</td>\n",
       "      <td>2</td>\n",
       "    </tr>\n",
       "  </tbody>\n",
       "</table>\n",
       "</div>"
      ],
      "text/plain": [
       "         user_id  product_id  created_at\n",
       "860746   8672008     3890806           2\n",
       "1516796   750857     2198311           2\n",
       "782386   6601315      987662           2\n",
       "2018022  1060650     3356497           2\n",
       "318411   1220553      898824           2"
      ]
     },
     "execution_count": 5,
     "metadata": {},
     "output_type": "execute_result"
    }
   ],
   "source": [
    "df['created_at'] = df['created_at'].map(tokens_value)\n",
    "df.sort_values(by='created_at', inplace=True) # sort values to visulization better\n",
    "df.head()"
   ]
  },
  {
   "cell_type": "code",
   "execution_count": 6,
   "id": "23f385ee",
   "metadata": {},
   "outputs": [
    {
     "data": {
      "image/png": "[encoded data removed]",
      "text/plain": [
       "<Figure size 432x288 with 1 Axes>"
      ]
     },
     "metadata": {
      "needs_background": "light"
     },
     "output_type": "display_data"
    }
   ],
   "source": [
    "# show example of data with user_id and product_id\n",
    "example = df[df['user_id']==3184486]\n",
    "example = example[example['product_id']==4278839]['created_at']\n",
    "indexes = [i for i in range(len(example))]\n",
    "plt.plot(indexes, example)\n",
    "plt.show()"
   ]
  },
  {
   "cell_type": "code",
   "execution_count": 7,
   "id": "5488e6d0",
   "metadata": {},
   "outputs": [],
   "source": [
    "# we must split any user_id and product_id\n",
    "data_dict = {}\n",
    "for name, value in df.groupby(by=['user_id', 'product_id']):\n",
    "    data_dict[name] = sorted(list(set(value['created_at'].values)))"
   ]
  },
  {
   "cell_type": "code",
   "execution_count": 8,
   "id": "4fb02f54",
   "metadata": {},
   "outputs": [
    {
     "data": {
      "text/plain": [
       "([26, 31, 33, 41, 283, 289, 296, 308], [3, 26, 136, 148])"
      ]
     },
     "execution_count": 8,
     "metadata": {},
     "output_type": "execute_result"
    }
   ],
   "source": [
    "# show examples\n",
    "data_dict[(577243, 968036)], data_dict[(577243, 968153)]"
   ]
  },
  {
   "cell_type": "code",
   "execution_count": 9,
   "id": "ab75a86e",
   "metadata": {},
   "outputs": [
    {
     "data": {
      "text/plain": [
       "4"
      ]
     },
     "execution_count": 9,
     "metadata": {},
     "output_type": "execute_result"
    }
   ],
   "source": [
    "# values must be the same length\n",
    "def MinimomLength(ln):\n",
    "    return min([len(i) for i in ln])\n",
    "\n",
    "chunke = MinimomLength(data_dict.values())\n",
    "chunke"
   ]
  },
  {
   "cell_type": "code",
   "execution_count": 10,
   "id": "e22c2e7e",
   "metadata": {},
   "outputs": [
    {
     "data": {
      "text/plain": [
       "((318050, 3), (318050,))"
      ]
     },
     "execution_count": 10,
     "metadata": {},
     "output_type": "execute_result"
    }
   ],
   "source": [
    "x_train = []\n",
    "y_train = []\n",
    "for val in data_dict.values():\n",
    "    x_train.append(val[-chunke:-1])\n",
    "    y_train.append(val[-1])\n",
    "    \n",
    "x_train, y_train = np.array(x_train), np.array(y_train)\n",
    "x_train.shape, y_train.shape"
   ]
  },
  {
   "cell_type": "code",
   "execution_count": 11,
   "id": "d3aacf2d",
   "metadata": {},
   "outputs": [
    {
     "data": {
      "text/plain": [
       "0.8018710245072824"
      ]
     },
     "execution_count": 11,
     "metadata": {},
     "output_type": "execute_result"
    }
   ],
   "source": [
    "from sklearn.linear_model import LinearRegression\n",
    "from sklearn.ensemble import RandomForestRegressor\n",
    "from sklearn.tree import DecisionTreeRegressor\n",
    "from sklearn.neighbors import KNeighborsRegressor\n",
    "from sklearn.metrics import mean_squared_error\n",
    "\n",
    "# for Linear Regression\n",
    "model = LinearRegression(n_jobs=10)\n",
    "model.fit(x_train, y_train)\n",
    "model.score(x_train, y_train)"
   ]
  },
  {
   "cell_type": "code",
   "execution_count": 52,
   "id": "8b82fa31",
   "metadata": {},
   "outputs": [
    {
     "data": {
      "text/plain": [
       "0.9501507033210249"
      ]
     },
     "execution_count": 52,
     "metadata": {},
     "output_type": "execute_result"
    }
   ],
   "source": [
    "# for Random Forest Regressor\n",
    "model = RandomForestRegressor(n_jobs=10, n_estimators=100,)\n",
    "model.fit(x_train, y_train)\n",
    "model.score(x_train, y_train)"
   ]
  },
  {
   "cell_type": "code",
   "execution_count": 12,
   "id": "bea6a4ce",
   "metadata": {},
   "outputs": [
    {
     "data": {
      "text/plain": [
       "0.9737711299520847"
      ]
     },
     "execution_count": 12,
     "metadata": {},
     "output_type": "execute_result"
    }
   ],
   "source": [
    "# for Decision Tree Regressor\n",
    "model = DecisionTreeRegressor()\n",
    "model.fit(x_train, y_train)\n",
    "model.score(x_train, y_train)"
   ]
  },
  {
   "cell_type": "code",
   "execution_count": 54,
   "id": "70b738a9",
   "metadata": {},
   "outputs": [
    {
     "data": {
      "text/plain": [
       "0.859380845219555"
      ]
     },
     "execution_count": 54,
     "metadata": {},
     "output_type": "execute_result"
    }
   ],
   "source": [
    "# for K Neighbors Regressor\n",
    "model = KNeighborsRegressor(n_jobs=10, n_neighbors=4)\n",
    "model.fit(x_train, y_train)\n",
    "model.score(x_train, y_train)"
   ]
  },
  {
   "cell_type": "code",
   "execution_count": 13,
   "id": "67d1d364",
   "metadata": {},
   "outputs": [
    {
     "data": {
      "text/plain": [
       "[19, 44, 106, 171]"
      ]
     },
     "execution_count": 13,
     "metadata": {},
     "output_type": "execute_result"
    }
   ],
   "source": [
    "data_dict[(577243, 875550)] # target is 171"
   ]
  },
  {
   "cell_type": "code",
   "execution_count": 14,
   "id": "7db00cd8",
   "metadata": {},
   "outputs": [
    {
     "data": {
      "text/plain": [
       "array([171.])"
      ]
     },
     "execution_count": 14,
     "metadata": {},
     "output_type": "execute_result"
    }
   ],
   "source": [
    "# example predictions\n",
    "x_test = np.array([19, 44, 106]) \n",
    "pred = model.predict(x_test.reshape(1, -1))\n",
    "pred"
   ]
  },
  {
   "cell_type": "code",
   "execution_count": 15,
   "id": "8bbff0f4",
   "metadata": {},
   "outputs": [
    {
     "data": {
      "text/plain": [
       "'2019-06-16'"
      ]
     },
     "execution_count": 15,
     "metadata": {},
     "output_type": "execute_result"
    }
   ],
   "source": [
    "tokens_key[int(pred)]"
   ]
  },
  {
   "cell_type": "code",
   "execution_count": 16,
   "id": "fee850cf",
   "metadata": {},
   "outputs": [
    {
     "data": {
      "text/plain": [
       "array([229.])"
      ]
     },
     "execution_count": 16,
     "metadata": {},
     "output_type": "execute_result"
    }
   ],
   "source": [
    "# predict future\n",
    "x_future = np.array([44, 106, 171]) \n",
    "forcast = model.predict(x_future.reshape(1, -1))\n",
    "forcast"
   ]
  },
  {
   "cell_type": "code",
   "execution_count": 17,
   "id": "b0583e6e",
   "metadata": {},
   "outputs": [
    {
     "data": {
      "text/plain": [
       "'2019-08-12'"
      ]
     },
     "execution_count": 17,
     "metadata": {},
     "output_type": "execute_result"
    }
   ],
   "source": [
    "tokens_key[int(forcast)]"
   ]
  },
  {
   "cell_type": "code",
   "execution_count": null,
   "id": "5d909831",
   "metadata": {},
   "outputs": [],
   "source": []
  }
 ],
 "metadata": {
  "kernelspec": {
   "display_name": "Python 3 (ipykernel)",
   "language": "python",
   "name": "python3"
  },
  "language_info": {
   "codemirror_mode": {
    "name": "ipython",
    "version": 3
   },
   "file_extension": ".py",
   "mimetype": "text/x-python",
   "name": "python",
   "nbconvert_exporter": "python",
   "pygments_lexer": "ipython3",
   "version": "3.10.6"
  }
 },
 "nbformat": 4,
 "nbformat_minor": 5
}
