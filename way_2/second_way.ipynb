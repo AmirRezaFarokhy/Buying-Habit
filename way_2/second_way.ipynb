{
 "cells": [
  {
   "cell_type": "code",
   "execution_count": 1,
   "id": "4ed9ae0d",
   "metadata": {},
   "outputs": [
    {
     "data": {
      "text/html": [
       "<div>\n",
       "<style scoped>\n",
       "    .dataframe tbody tr th:only-of-type {\n",
       "        vertical-align: middle;\n",
       "    }\n",
       "\n",
       "    .dataframe tbody tr th {\n",
       "        vertical-align: top;\n",
       "    }\n",
       "\n",
       "    .dataframe thead th {\n",
       "        text-align: right;\n",
       "    }\n",
       "</style>\n",
       "<table border=\"1\" class=\"dataframe\">\n",
       "  <thead>\n",
       "    <tr style=\"text-align: right;\">\n",
       "      <th></th>\n",
       "      <th>user_id</th>\n",
       "      <th>product_id</th>\n",
       "      <th>created_at</th>\n",
       "    </tr>\n",
       "  </thead>\n",
       "  <tbody>\n",
       "    <tr>\n",
       "      <th>0</th>\n",
       "      <td>647746</td>\n",
       "      <td>2011564</td>\n",
       "      <td>2019-02-09</td>\n",
       "    </tr>\n",
       "    <tr>\n",
       "      <th>1</th>\n",
       "      <td>906136</td>\n",
       "      <td>4105782</td>\n",
       "      <td>2019-11-23</td>\n",
       "    </tr>\n",
       "    <tr>\n",
       "      <th>2</th>\n",
       "      <td>12862997</td>\n",
       "      <td>2144063</td>\n",
       "      <td>2019-07-16</td>\n",
       "    </tr>\n",
       "    <tr>\n",
       "      <th>3</th>\n",
       "      <td>12097079</td>\n",
       "      <td>1207738</td>\n",
       "      <td>2019-04-05</td>\n",
       "    </tr>\n",
       "    <tr>\n",
       "      <th>4</th>\n",
       "      <td>3184486</td>\n",
       "      <td>4278839</td>\n",
       "      <td>2019-03-08</td>\n",
       "    </tr>\n",
       "  </tbody>\n",
       "</table>\n",
       "</div>"
      ],
      "text/plain": [
       "    user_id  product_id  created_at\n",
       "0    647746     2011564  2019-02-09\n",
       "1    906136     4105782  2019-11-23\n",
       "2  12862997     2144063  2019-07-16\n",
       "3  12097079     1207738  2019-04-05\n",
       "4   3184486     4278839  2019-03-08"
      ]
     },
     "execution_count": 1,
     "metadata": {},
     "output_type": "execute_result"
    }
   ],
   "source": [
    "import pandas as pd\n",
    "import numpy as np\n",
    "\n",
    "import matplotlib.pyplot as plt\n",
    "\n",
    "from sklearn.linear_model import LinearRegression\n",
    "from sklearn.ensemble import RandomForestRegressor\n",
    "from sklearn.tree import DecisionTreeRegressor\n",
    "from sklearn.neighbors import KNeighborsRegressor\n",
    "from sklearn.metrics import mean_squared_error\n",
    "\n",
    "df = pd.read_csv(\"purchase_history.csv\")\n",
    "df.head()"
   ]
  },
  {
   "cell_type": "code",
   "execution_count": 31,
   "id": "1ad2b1a1",
   "metadata": {},
   "outputs": [],
   "source": [
    "def TokenizingDateTimes():\n",
    "    date_to_token = {}\n",
    "    token_to_date = {}\n",
    "    tknz = 1\n",
    "    for year in range(2019, 2021): # years create\n",
    "        for month in range(1, 13): # month create\n",
    "            for day in range(1, 32): # days create\n",
    "                if day<10 and month<10:\n",
    "                    date_to_token[f\"{year}-0{month}-0{day}\"] = tknz\n",
    "                    token_to_date[tknz] = f\"{year}-0{month}-0{day}\"\n",
    "                    tknz += 1\n",
    "                elif day<10 and month>=10:\n",
    "                    date_to_token[f\"{year}-{month}-0{day}\"] = tknz\n",
    "                    token_to_date[tknz] = f\"{year}-{month}-0{day}\"\n",
    "                    tknz += 1\n",
    "                elif day>=10 and month<10:\n",
    "                    date_to_token[f\"{year}-0{month}-{day}\"] = tknz\n",
    "                    token_to_date[tknz] = f\"{year}-0{month}-{day}\"\n",
    "                    tknz += 1\n",
    "                else:\n",
    "                    date_to_token[f\"{year}-{month}-{day}\"] = tknz\n",
    "                    token_to_date[tknz] = f\"{year}-{month}-{day}\"\n",
    "                    tknz += 1\n",
    "                    \n",
    "    return date_to_token, token_to_date        \n",
    "            \n",
    "        \n",
    "tokens_value, tokens_key = TokenizingDateTimes()  "
   ]
  },
  {
   "cell_type": "code",
   "execution_count": 33,
   "id": "531d6387",
   "metadata": {},
   "outputs": [
    {
     "data": {
      "text/plain": [
       "'2019-01-10'"
      ]
     },
     "execution_count": 33,
     "metadata": {},
     "output_type": "execute_result"
    }
   ],
   "source": [
    "tokens_key[10]"
   ]
  },
  {
   "cell_type": "code",
   "execution_count": 3,
   "id": "5d56129b",
   "metadata": {},
   "outputs": [],
   "source": [
    "df['created_at'] = df['created_at'].map(tokens_value)"
   ]
  },
  {
   "cell_type": "code",
   "execution_count": 4,
   "id": "815b08f7",
   "metadata": {},
   "outputs": [],
   "source": [
    "# we must split any user_id and product_id\n",
    "data_dict = {}\n",
    "for name, value in df.groupby(by=['user_id', 'product_id']):\n",
    "    data_dict[name] = sorted(list(set(value['created_at'].values)))\n"
   ]
  },
  {
   "cell_type": "code",
   "execution_count": 5,
   "id": "be893eb5",
   "metadata": {},
   "outputs": [
    {
     "data": {
      "text/plain": [
       "[75, 87, 115, 171, 184]"
      ]
     },
     "execution_count": 5,
     "metadata": {},
     "output_type": "execute_result"
    }
   ],
   "source": [
    "data_dict[(577243, 724112)]"
   ]
  },
  {
   "cell_type": "code",
   "execution_count": 6,
   "id": "1efb7a42",
   "metadata": {},
   "outputs": [
    {
     "data": {
      "image/png": "[encoded data removed]",
      "text/plain": [
       "<Figure size 432x288 with 1 Axes>"
      ]
     },
     "metadata": {
      "needs_background": "light"
     },
     "output_type": "display_data"
    }
   ],
   "source": [
    "# first predict one value to check the accuracy\n",
    "model = LinearRegression(n_jobs=10)\n",
    "\n",
    "x_check = [i for i in range(1, len(data_dict[(577243, 724112)])+1)]\n",
    "y_check = data_dict[(577243, 724112)]\n",
    "plt.plot(x_check, y_check)\n",
    "plt.show()"
   ]
  },
  {
   "cell_type": "code",
   "execution_count": 7,
   "id": "9cc9f22e",
   "metadata": {},
   "outputs": [
    {
     "data": {
      "text/html": [
       "<style>#sk-container-id-1 {color: black;background-color: white;}#sk-container-id-1 pre{padding: 0;}#sk-container-id-1 div.sk-toggleable {background-color: white;}#sk-container-id-1 label.sk-toggleable__label {cursor: pointer;display: block;width: 100%;margin-bottom: 0;padding: 0.3em;box-sizing: border-box;text-align: center;}#sk-container-id-1 label.sk-toggleable__label-arrow:before {content: \"▸\";float: left;margin-right: 0.25em;color: #696969;}#sk-container-id-1 label.sk-toggleable__label-arrow:hover:before {color: black;}#sk-container-id-1 div.sk-estimator:hover label.sk-toggleable__label-arrow:before {color: black;}#sk-container-id-1 div.sk-toggleable__content {max-height: 0;max-width: 0;overflow: hidden;text-align: left;background-color: #f0f8ff;}#sk-container-id-1 div.sk-toggleable__content pre {margin: 0.2em;color: black;border-radius: 0.25em;background-color: #f0f8ff;}#sk-container-id-1 input.sk-toggleable__control:checked~div.sk-toggleable__content {max-height: 200px;max-width: 100%;overflow: auto;}#sk-container-id-1 input.sk-toggleable__control:checked~label.sk-toggleable__label-arrow:before {content: \"▾\";}#sk-container-id-1 div.sk-estimator input.sk-toggleable__control:checked~label.sk-toggleable__label {background-color: #d4ebff;}#sk-container-id-1 div.sk-label input.sk-toggleable__control:checked~label.sk-toggleable__label {background-color: #d4ebff;}#sk-container-id-1 input.sk-hidden--visually {border: 0;clip: rect(1px 1px 1px 1px);clip: rect(1px, 1px, 1px, 1px);height: 1px;margin: -1px;overflow: hidden;padding: 0;position: absolute;width: 1px;}#sk-container-id-1 div.sk-estimator {font-family: monospace;background-color: #f0f8ff;border: 1px dotted black;border-radius: 0.25em;box-sizing: border-box;margin-bottom: 0.5em;}#sk-container-id-1 div.sk-estimator:hover {background-color: #d4ebff;}#sk-container-id-1 div.sk-parallel-item::after {content: \"\";width: 100%;border-bottom: 1px solid gray;flex-grow: 1;}#sk-container-id-1 div.sk-label:hover label.sk-toggleable__label {background-color: #d4ebff;}#sk-container-id-1 div.sk-serial::before {content: \"\";position: absolute;border-left: 1px solid gray;box-sizing: border-box;top: 0;bottom: 0;left: 50%;z-index: 0;}#sk-container-id-1 div.sk-serial {display: flex;flex-direction: column;align-items: center;background-color: white;padding-right: 0.2em;padding-left: 0.2em;position: relative;}#sk-container-id-1 div.sk-item {position: relative;z-index: 1;}#sk-container-id-1 div.sk-parallel {display: flex;align-items: stretch;justify-content: center;background-color: white;position: relative;}#sk-container-id-1 div.sk-item::before, #sk-container-id-1 div.sk-parallel-item::before {content: \"\";position: absolute;border-left: 1px solid gray;box-sizing: border-box;top: 0;bottom: 0;left: 50%;z-index: -1;}#sk-container-id-1 div.sk-parallel-item {display: flex;flex-direction: column;z-index: 1;position: relative;background-color: white;}#sk-container-id-1 div.sk-parallel-item:first-child::after {align-self: flex-end;width: 50%;}#sk-container-id-1 div.sk-parallel-item:last-child::after {align-self: flex-start;width: 50%;}#sk-container-id-1 div.sk-parallel-item:only-child::after {width: 0;}#sk-container-id-1 div.sk-dashed-wrapped {border: 1px dashed gray;margin: 0 0.4em 0.5em 0.4em;box-sizing: border-box;padding-bottom: 0.4em;background-color: white;}#sk-container-id-1 div.sk-label label {font-family: monospace;font-weight: bold;display: inline-block;line-height: 1.2em;}#sk-container-id-1 div.sk-label-container {text-align: center;}#sk-container-id-1 div.sk-container {/* jupyter's `normalize.less` sets `[hidden] { display: none; }` but bootstrap.min.css set `[hidden] { display: none !important; }` so we also need the `!important` here to be able to override the default hidden behavior on the sphinx rendered scikit-learn.org. See: https://github.com/scikit-learn/scikit-learn/issues/21755 */display: inline-block !important;position: relative;}#sk-container-id-1 div.sk-text-repr-fallback {display: none;}</style><div id=\"sk-container-id-1\" class=\"sk-top-container\"><div class=\"sk-text-repr-fallback\"><pre>LinearRegression(n_jobs=10)</pre><b>In a Jupyter environment, please rerun this cell to show the HTML representation or trust the notebook. <br />On GitHub, the HTML representation is unable to render, please try loading this page with nbviewer.org.</b></div><div class=\"sk-container\" hidden><div class=\"sk-item\"><div class=\"sk-estimator sk-toggleable\"><input class=\"sk-toggleable__control sk-hidden--visually\" id=\"sk-estimator-id-1\" type=\"checkbox\" checked><label for=\"sk-estimator-id-1\" class=\"sk-toggleable__label sk-toggleable__label-arrow\">LinearRegression</label><div class=\"sk-toggleable__content\"><pre>LinearRegression(n_jobs=10)</pre></div></div></div></div></div>"
      ],
      "text/plain": [
       "LinearRegression(n_jobs=10)"
      ]
     },
     "execution_count": 7,
     "metadata": {},
     "output_type": "execute_result"
    }
   ],
   "source": [
    "model.fit(np.array(x_check).reshape(-1, 1), np.array(y_check))\n"
   ]
  },
  {
   "cell_type": "code",
   "execution_count": 8,
   "id": "e6b0a2c8",
   "metadata": {},
   "outputs": [],
   "source": [
    "y_pred = model.predict(np.array(len(x_check)+1).reshape(-1, 1))"
   ]
  },
  {
   "cell_type": "code",
   "execution_count": 9,
   "id": "90a32585",
   "metadata": {},
   "outputs": [
    {
     "data": {
      "image/png": "[encoded data removed]",
      "text/plain": [
       "<Figure size 432x288 with 1 Axes>"
      ]
     },
     "metadata": {
      "needs_background": "light"
     },
     "output_type": "display_data"
    }
   ],
   "source": [
    "plt.plot(x_check, y_check, label='date')\n",
    "plt.scatter(len(x_check)+1, y_pred, label='predict')\n",
    "plt.legend(loc=2)\n",
    "plt.show()"
   ]
  },
  {
   "cell_type": "code",
   "execution_count": 10,
   "id": "d976bca6",
   "metadata": {},
   "outputs": [],
   "source": [
    "# we predict next date with simple linear model for all value\n",
    "for key in data_dict.keys():\n",
    "    x_train = [i for i in range(1, len(data_dict[key])+1)]\n",
    "    y_train = data_dict[key]\n",
    "    x_train, y_train = np.array(x_train).reshape(-1, 1), np.array(y_train)\n",
    "    model.fit(x_train, y_train)\n",
    "    x_forcast = np.array(len(x_train)+1).reshape(-1, 1)\n",
    "    y_future = model.predict(x_forcast)\n",
    "    data_dict[key].append(y_future.tolist())"
   ]
  },
  {
   "cell_type": "code",
   "execution_count": 11,
   "id": "28399bc7",
   "metadata": {},
   "outputs": [
    {
     "data": {
      "text/plain": [
       "[75, 87, 115, 171, 184, [217.0]]"
      ]
     },
     "execution_count": 11,
     "metadata": {},
     "output_type": "execute_result"
    }
   ],
   "source": [
    "data_dict[(577243, 724112)]"
   ]
  },
  {
   "cell_type": "code",
   "execution_count": 35,
   "id": "21d6fef0",
   "metadata": {},
   "outputs": [],
   "source": [
    "real_time = {}\n",
    "for key, val in data_dict.items():\n",
    "    real_time[key] = tokens_key[int(val[-1][0])]    # the last and prediction"
   ]
  },
  {
   "cell_type": "code",
   "execution_count": 37,
   "id": "5d2959a6",
   "metadata": {},
   "outputs": [
    {
     "data": {
      "text/plain": [
       "('2019-05-26', '2020-03-05', '2019-08-24')"
      ]
     },
     "execution_count": 37,
     "metadata": {},
     "output_type": "execute_result"
    }
   ],
   "source": [
    "# show some examlpes\n",
    "real_time[(577243, 968088)], real_time[(577243, 895955)], real_time[(587491, 899050)], "
   ]
  },
  {
   "cell_type": "code",
   "execution_count": null,
   "id": "1b2a6d07",
   "metadata": {},
   "outputs": [],
   "source": []
  }
 ],
 "metadata": {
  "kernelspec": {
   "display_name": "Python 3 (ipykernel)",
   "language": "python",
   "name": "python3"
  },
  "language_info": {
   "codemirror_mode": {
    "name": "ipython",
    "version": 3
   },
   "file_extension": ".py",
   "mimetype": "text/x-python",
   "name": "python",
   "nbconvert_exporter": "python",
   "pygments_lexer": "ipython3",
   "version": "3.10.6"
  }
 },
 "nbformat": 4,
 "nbformat_minor": 5
}
